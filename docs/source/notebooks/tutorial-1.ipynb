{
 "cells": [
  {
   "cell_type": "markdown",
   "metadata": {},
   "source": [
    "# Tutorial - Getting started..."
   ]
  },
  {
   "cell_type": "markdown",
   "metadata": {},
   "source": [
    "mol_translator is a python package, specifically designed for the i/o of NMR chemical data. The main purpose is facilitating DFT calculations by automating the generation of the input files and processing the output files from gaussian and orca calculations. The base output format for storing nmr data is the nmredata format which is a modified sdf filetype.\n",
    "\n",
    "Other uses for mol_translator are for the generation of dataframes and descriptors, examples include its use in IMPRESSION!"
   ]
  },
  {
   "cell_type": "code",
   "execution_count": 38,
   "metadata": {},
   "outputs": [
    {
     "data": {
      "text/plain": [
       "<function mol_translator.aemol.Aemol.__init__(self, molid: str, filepath: Optional[str] = None) -> Type>"
      ]
     },
     "execution_count": 38,
     "metadata": {},
     "output_type": "execute_result"
    }
   ],
   "source": [
    "from mol_translator.aemol import Aemol\n",
    "\n",
    "Aemol.__init__"
   ]
  },
  {
   "cell_type": "markdown",
   "metadata": {},
   "source": [
    "## The Aemol class"
   ]
  },
  {
   "cell_type": "markdown",
   "metadata": {},
   "source": [
    "Most functions in mol_translator revolves around the internal class aemol as all information is stored within it.\n",
    "\n",
    "To generate an Aemol object, a string, molid, must be passed when calling it to define the internal name of the object. In the example below the Aemol object is instantiated with the id 'butane'."
   ]
  },
  {
   "cell_type": "code",
   "execution_count": 26,
   "metadata": {},
   "outputs": [
    {
     "data": {
      "text/plain": [
       "Aemol(butane, \n",
       "xyz: \n",
       " [], \n",
       "types: \n",
       " [], \n",
       "conn: \n",
       " [], \n",
       "atom_prop: \n",
       " {}, \n",
       "pair_prop: \n",
       " {}, \n",
       "mol_prop: \n",
       " {'energy': -404.404})"
      ]
     },
     "execution_count": 26,
     "metadata": {},
     "output_type": "execute_result"
    }
   ],
   "source": [
    "mol = Aemol('butane')\n",
    "mol"
   ]
  },
  {
   "cell_type": "markdown",
   "metadata": {},
   "source": [
    "As you can see the class attributes are all empty since only an id has been set. To get the basic information you can pass in a smiles string."
   ]
  },
  {
   "cell_type": "code",
   "execution_count": 40,
   "metadata": {},
   "outputs": [
    {
     "name": "stdout",
     "output_type": "stream",
     "text": [
      "\n",
      "        Converts a SMILES string into an aemol object via Openbabel\n",
      "\n",
      "        :param smiles: str, SMILES string of molecule\n",
      "\n",
      "        \n"
     ]
    }
   ],
   "source": [
    "print(mol.from_smiles.__doc__)"
   ]
  },
  {
   "cell_type": "code",
   "execution_count": 28,
   "metadata": {},
   "outputs": [
    {
     "data": {
      "text/plain": [
       "Aemol(butane, \n",
       "xyz: \n",
       " [[0. 0. 0.]\n",
       " [0. 0. 0.]\n",
       " [0. 0. 0.]\n",
       " [0. 0. 0.]], \n",
       "types: \n",
       " [6 6 6 6], \n",
       "conn: \n",
       " [[0 1 0 0]\n",
       " [1 0 1 0]\n",
       " [0 1 0 1]\n",
       " [0 0 1 0]], \n",
       "atom_prop: \n",
       " {}, \n",
       "pair_prop: \n",
       " {}, \n",
       "mol_prop: \n",
       " {'energy': -404.404})"
      ]
     },
     "execution_count": 28,
     "metadata": {},
     "output_type": "execute_result"
    }
   ],
   "source": [
    "mol.from_smiles('CCCC')\n",
    "mol"
   ]
  },
  {
   "cell_type": "markdown",
   "metadata": {},
   "source": [
    "Since it's a SMILES string, all the inherent hydrogens are omitted and the xyz coordinates aren't calculated."
   ]
  },
  {
   "cell_type": "markdown",
   "metadata": {},
   "source": [
    "The more useful option is reading in files. In this example we have a file named 'butane_3d.sdf' saved which contains 3D xyz coordinates which we will process.\n",
    "\n",
    "There are two functions to choose:\n",
    "\n",
    "- from_file_ob\n",
    "- from_file_rd\n",
    "\n",
    "One reads the file with openbabel(ob) and the other uses rdkit(rd), therefore mol_translator is compatible with all formats used by either of those packages"
   ]
  },
  {
   "cell_type": "code",
   "execution_count": 34,
   "metadata": {},
   "outputs": [
    {
     "data": {
      "text/plain": [
       "Aemol(butane, \n",
       "xyz: \n",
       " [[-1.8700e-02  1.5258e+00  1.0400e-02]\n",
       " [ 2.1000e-03 -4.1000e-03  2.0000e-03]\n",
       " [ 7.1820e-01 -4.9750e-01 -1.2568e+00]\n",
       " [ 7.3900e-01 -2.0273e+00 -1.2652e+00]\n",
       " [ 1.0039e+00  1.9031e+00  2.7000e-03]\n",
       " [-5.4590e-01  1.8868e+00 -8.7260e-01]\n",
       " [-5.2890e-01  1.8773e+00  9.0720e-01]\n",
       " [ 5.2930e-01 -3.6510e-01  8.8510e-01]\n",
       " [-1.0205e+00 -3.8140e-01  9.8000e-03]\n",
       " [ 1.9100e-01 -1.3640e-01 -2.1398e+00]\n",
       " [ 1.7408e+00 -1.2020e-01 -1.2645e+00]\n",
       " [ 1.2661e+00 -2.3884e+00 -3.8210e-01]\n",
       " [-2.8360e-01 -2.4046e+00 -1.2575e+00]\n",
       " [ 1.2492e+00 -2.3788e+00 -2.1620e+00]], \n",
       "types: \n",
       " [6 6 6 6 1 1 1 1 1 1 1 1 1 1], \n",
       "conn: \n",
       " [[0 1 0 0 1 1 1 0 0 0 0 0 0 0]\n",
       " [1 0 1 0 0 0 0 1 1 0 0 0 0 0]\n",
       " [0 1 0 1 0 0 0 0 0 1 1 0 0 0]\n",
       " [0 0 1 0 0 0 0 0 0 0 0 1 1 1]\n",
       " [1 0 0 0 0 0 0 0 0 0 0 0 0 0]\n",
       " [1 0 0 0 0 0 0 0 0 0 0 0 0 0]\n",
       " [1 0 0 0 0 0 0 0 0 0 0 0 0 0]\n",
       " [0 1 0 0 0 0 0 0 0 0 0 0 0 0]\n",
       " [0 1 0 0 0 0 0 0 0 0 0 0 0 0]\n",
       " [0 0 1 0 0 0 0 0 0 0 0 0 0 0]\n",
       " [0 0 1 0 0 0 0 0 0 0 0 0 0 0]\n",
       " [0 0 0 1 0 0 0 0 0 0 0 0 0 0]\n",
       " [0 0 0 1 0 0 0 0 0 0 0 0 0 0]\n",
       " [0 0 0 1 0 0 0 0 0 0 0 0 0 0]], \n",
       "atom_prop: \n",
       " {}, \n",
       "pair_prop: \n",
       " {}, \n",
       "mol_prop: \n",
       " {'energy': -404.404})"
      ]
     },
     "execution_count": 34,
     "metadata": {},
     "output_type": "execute_result"
    }
   ],
   "source": [
    "mol.from_file_ob('example_files/butane_3d.sdf', ftype='sdf')\n",
    "mol"
   ]
  },
  {
   "cell_type": "markdown",
   "metadata": {},
   "source": [
    "Once the aemol attribues have been filled it can be used to convert to other data formats"
   ]
  },
  {
   "cell_type": "code",
   "execution_count": 42,
   "metadata": {},
   "outputs": [
    {
     "data": {
      "image/png": "[encoded data removed]",
      "text/plain": [
       "<rdkit.Chem.rdchem.Mol at 0x167f5fd00>"
      ]
     },
     "execution_count": 42,
     "metadata": {},
     "output_type": "execute_result"
    }
   ],
   "source": [
    "mol.to_rdkit()\n",
    "\n",
    "mol.rdmol"
   ]
  },
  {
   "cell_type": "markdown",
   "metadata": {},
   "source": [
    "The aemol object and obtain both the rdkit and openbabel representation with:\n",
    "\n",
    "- `mol.rdmol`\n",
    "- `mol.obmol`"
   ]
  },
  {
   "cell_type": "markdown",
   "metadata": {},
   "source": []
  }
 ],
 "metadata": {
  "interpreter": {
   "hash": "09af9a127b9cc956463b47c4c55234c50bb48cc82b511bf6d2c09b96c030dd7f"
  },
  "kernelspec": {
   "display_name": "Python 3.9.12 ('mol_translator-dev')",
   "language": "python",
   "name": "python3"
  },
  "language_info": {
   "codemirror_mode": {
    "name": "ipython",
    "version": 3
   },
   "file_extension": ".py",
   "mimetype": "text/x-python",
   "name": "python",
   "nbconvert_exporter": "python",
   "pygments_lexer": "ipython3",
   "version": "3.9.12"
  },
  "orig_nbformat": 4
 },
 "nbformat": 4,
 "nbformat_minor": 2
}
